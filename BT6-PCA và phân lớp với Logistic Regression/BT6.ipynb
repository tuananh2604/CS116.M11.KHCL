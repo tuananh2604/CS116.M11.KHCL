{
  "nbformat": 4,
  "nbformat_minor": 0,
  "metadata": {
    "colab": {
      "name": "BT6.ipynb",
      "provenance": []
    },
    "kernelspec": {
      "name": "python3",
      "display_name": "Python 3"
    },
    "language_info": {
      "name": "python"
    }
  },
  "cells": [
    {
      "cell_type": "code",
      "metadata": {
        "colab": {
          "resources": {
            "http://localhost:8080/nbextensions/google.colab/files.js": {
              "data": "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",
              "ok": true,
              "headers": [
                [
                  "content-type",
                  "application/javascript"
                ]
              ],
              "status": 200,
              "status_text": ""
            }
          },
          "base_uri": "https://localhost:8080/",
          "height": 73
        },
        "id": "GkebO37yMIWE",
        "outputId": "b94bd25a-c98a-4292-8024-ea8a11482089"
      },
      "source": [
        "from google.colab import files\n",
        "data = files.upload()"
      ],
      "execution_count": 1,
      "outputs": [
        {
          "output_type": "display_data",
          "data": {
            "text/html": [
              "\n",
              "     <input type=\"file\" id=\"files-6422b5be-e75d-48c9-b099-6af237aa7f64\" name=\"files[]\" multiple disabled\n",
              "        style=\"border:none\" />\n",
              "     <output id=\"result-6422b5be-e75d-48c9-b099-6af237aa7f64\">\n",
              "      Upload widget is only available when the cell has been executed in the\n",
              "      current browser session. Please rerun this cell to enable.\n",
              "      </output>\n",
              "      <script src=\"/nbextensions/google.colab/files.js\"></script> "
            ],
            "text/plain": [
              "<IPython.core.display.HTML object>"
            ]
          },
          "metadata": {}
        },
        {
          "output_type": "stream",
          "name": "stdout",
          "text": [
            "Saving Wine.csv to Wine.csv\n"
          ]
        }
      ]
    },
    {
      "cell_type": "code",
      "metadata": {
        "id": "wsOPOYloRcds"
      },
      "source": [
        "import pandas as pd\n",
        "import matplotlib.pyplot as plt\n",
        "import numpy as np"
      ],
      "execution_count": 2,
      "outputs": []
    },
    {
      "cell_type": "code",
      "metadata": {
        "colab": {
          "base_uri": "https://localhost:8080/",
          "height": 203
        },
        "id": "QQoO6wYZRG7h",
        "outputId": "bf44aa10-c029-4820-c084-59f8b6ead100"
      },
      "source": [
        "data=pd.read_csv(\"Wine.csv\")\n",
        "data.head()"
      ],
      "execution_count": 3,
      "outputs": [
        {
          "output_type": "execute_result",
          "data": {
            "text/html": [
              "<div>\n",
              "<style scoped>\n",
              "    .dataframe tbody tr th:only-of-type {\n",
              "        vertical-align: middle;\n",
              "    }\n",
              "\n",
              "    .dataframe tbody tr th {\n",
              "        vertical-align: top;\n",
              "    }\n",
              "\n",
              "    .dataframe thead th {\n",
              "        text-align: right;\n",
              "    }\n",
              "</style>\n",
              "<table border=\"1\" class=\"dataframe\">\n",
              "  <thead>\n",
              "    <tr style=\"text-align: right;\">\n",
              "      <th></th>\n",
              "      <th>Alcohol</th>\n",
              "      <th>Malic_Acid</th>\n",
              "      <th>Ash</th>\n",
              "      <th>Ash_Alcanity</th>\n",
              "      <th>Magnesium</th>\n",
              "      <th>Total_Phenols</th>\n",
              "      <th>Flavanoids</th>\n",
              "      <th>Nonflavanoid_Phenols</th>\n",
              "      <th>Proanthocyanins</th>\n",
              "      <th>Color_Intensity</th>\n",
              "      <th>Hue</th>\n",
              "      <th>OD280</th>\n",
              "      <th>Proline</th>\n",
              "      <th>Customer_Segment</th>\n",
              "    </tr>\n",
              "  </thead>\n",
              "  <tbody>\n",
              "    <tr>\n",
              "      <th>0</th>\n",
              "      <td>14.23</td>\n",
              "      <td>1.71</td>\n",
              "      <td>2.43</td>\n",
              "      <td>15.6</td>\n",
              "      <td>127</td>\n",
              "      <td>2.80</td>\n",
              "      <td>3.06</td>\n",
              "      <td>0.28</td>\n",
              "      <td>2.29</td>\n",
              "      <td>5.64</td>\n",
              "      <td>1.04</td>\n",
              "      <td>3.92</td>\n",
              "      <td>1065</td>\n",
              "      <td>1</td>\n",
              "    </tr>\n",
              "    <tr>\n",
              "      <th>1</th>\n",
              "      <td>13.20</td>\n",
              "      <td>1.78</td>\n",
              "      <td>2.14</td>\n",
              "      <td>11.2</td>\n",
              "      <td>100</td>\n",
              "      <td>2.65</td>\n",
              "      <td>2.76</td>\n",
              "      <td>0.26</td>\n",
              "      <td>1.28</td>\n",
              "      <td>4.38</td>\n",
              "      <td>1.05</td>\n",
              "      <td>3.40</td>\n",
              "      <td>1050</td>\n",
              "      <td>1</td>\n",
              "    </tr>\n",
              "    <tr>\n",
              "      <th>2</th>\n",
              "      <td>13.16</td>\n",
              "      <td>2.36</td>\n",
              "      <td>2.67</td>\n",
              "      <td>18.6</td>\n",
              "      <td>101</td>\n",
              "      <td>2.80</td>\n",
              "      <td>3.24</td>\n",
              "      <td>0.30</td>\n",
              "      <td>2.81</td>\n",
              "      <td>5.68</td>\n",
              "      <td>1.03</td>\n",
              "      <td>3.17</td>\n",
              "      <td>1185</td>\n",
              "      <td>1</td>\n",
              "    </tr>\n",
              "    <tr>\n",
              "      <th>3</th>\n",
              "      <td>14.37</td>\n",
              "      <td>1.95</td>\n",
              "      <td>2.50</td>\n",
              "      <td>16.8</td>\n",
              "      <td>113</td>\n",
              "      <td>3.85</td>\n",
              "      <td>3.49</td>\n",
              "      <td>0.24</td>\n",
              "      <td>2.18</td>\n",
              "      <td>7.80</td>\n",
              "      <td>0.86</td>\n",
              "      <td>3.45</td>\n",
              "      <td>1480</td>\n",
              "      <td>1</td>\n",
              "    </tr>\n",
              "    <tr>\n",
              "      <th>4</th>\n",
              "      <td>13.24</td>\n",
              "      <td>2.59</td>\n",
              "      <td>2.87</td>\n",
              "      <td>21.0</td>\n",
              "      <td>118</td>\n",
              "      <td>2.80</td>\n",
              "      <td>2.69</td>\n",
              "      <td>0.39</td>\n",
              "      <td>1.82</td>\n",
              "      <td>4.32</td>\n",
              "      <td>1.04</td>\n",
              "      <td>2.93</td>\n",
              "      <td>735</td>\n",
              "      <td>1</td>\n",
              "    </tr>\n",
              "  </tbody>\n",
              "</table>\n",
              "</div>"
            ],
            "text/plain": [
              "   Alcohol  Malic_Acid   Ash  ...  OD280  Proline  Customer_Segment\n",
              "0    14.23        1.71  2.43  ...   3.92     1065                 1\n",
              "1    13.20        1.78  2.14  ...   3.40     1050                 1\n",
              "2    13.16        2.36  2.67  ...   3.17     1185                 1\n",
              "3    14.37        1.95  2.50  ...   3.45     1480                 1\n",
              "4    13.24        2.59  2.87  ...   2.93      735                 1\n",
              "\n",
              "[5 rows x 14 columns]"
            ]
          },
          "metadata": {},
          "execution_count": 3
        }
      ]
    },
    {
      "cell_type": "code",
      "metadata": {
        "colab": {
          "base_uri": "https://localhost:8080/"
        },
        "id": "asg6zOj6Rh0z",
        "outputId": "b1e75b2a-7f19-48d7-e169-fd7666e0d496"
      },
      "source": [
        "data.columns"
      ],
      "execution_count": 4,
      "outputs": [
        {
          "output_type": "execute_result",
          "data": {
            "text/plain": [
              "Index(['Alcohol', 'Malic_Acid', 'Ash', 'Ash_Alcanity', 'Magnesium',\n",
              "       'Total_Phenols', 'Flavanoids', 'Nonflavanoid_Phenols',\n",
              "       'Proanthocyanins', 'Color_Intensity', 'Hue', 'OD280', 'Proline',\n",
              "       'Customer_Segment'],\n",
              "      dtype='object')"
            ]
          },
          "metadata": {},
          "execution_count": 4
        }
      ]
    },
    {
      "cell_type": "code",
      "metadata": {
        "colab": {
          "base_uri": "https://localhost:8080/"
        },
        "id": "Px19b-qMRh7f",
        "outputId": "857f430a-2718-42ae-e818-997796b90147"
      },
      "source": [
        "data['Customer_Segment'].value_counts()"
      ],
      "execution_count": 5,
      "outputs": [
        {
          "output_type": "execute_result",
          "data": {
            "text/plain": [
              "2    71\n",
              "1    59\n",
              "3    48\n",
              "Name: Customer_Segment, dtype: int64"
            ]
          },
          "metadata": {},
          "execution_count": 5
        }
      ]
    },
    {
      "cell_type": "code",
      "metadata": {
        "colab": {
          "base_uri": "https://localhost:8080/",
          "height": 203
        },
        "id": "iRE4KLkfRnf6",
        "outputId": "806bd839-bc23-496c-8aac-f749c7a4a1aa"
      },
      "source": [
        "# Lấy label và data\n",
        "labels=data[\"Customer_Segment\"]\n",
        "data.drop(columns=\"Customer_Segment\",inplace=True)\n",
        "data.head()"
      ],
      "execution_count": 6,
      "outputs": [
        {
          "output_type": "execute_result",
          "data": {
            "text/html": [
              "<div>\n",
              "<style scoped>\n",
              "    .dataframe tbody tr th:only-of-type {\n",
              "        vertical-align: middle;\n",
              "    }\n",
              "\n",
              "    .dataframe tbody tr th {\n",
              "        vertical-align: top;\n",
              "    }\n",
              "\n",
              "    .dataframe thead th {\n",
              "        text-align: right;\n",
              "    }\n",
              "</style>\n",
              "<table border=\"1\" class=\"dataframe\">\n",
              "  <thead>\n",
              "    <tr style=\"text-align: right;\">\n",
              "      <th></th>\n",
              "      <th>Alcohol</th>\n",
              "      <th>Malic_Acid</th>\n",
              "      <th>Ash</th>\n",
              "      <th>Ash_Alcanity</th>\n",
              "      <th>Magnesium</th>\n",
              "      <th>Total_Phenols</th>\n",
              "      <th>Flavanoids</th>\n",
              "      <th>Nonflavanoid_Phenols</th>\n",
              "      <th>Proanthocyanins</th>\n",
              "      <th>Color_Intensity</th>\n",
              "      <th>Hue</th>\n",
              "      <th>OD280</th>\n",
              "      <th>Proline</th>\n",
              "    </tr>\n",
              "  </thead>\n",
              "  <tbody>\n",
              "    <tr>\n",
              "      <th>0</th>\n",
              "      <td>14.23</td>\n",
              "      <td>1.71</td>\n",
              "      <td>2.43</td>\n",
              "      <td>15.6</td>\n",
              "      <td>127</td>\n",
              "      <td>2.80</td>\n",
              "      <td>3.06</td>\n",
              "      <td>0.28</td>\n",
              "      <td>2.29</td>\n",
              "      <td>5.64</td>\n",
              "      <td>1.04</td>\n",
              "      <td>3.92</td>\n",
              "      <td>1065</td>\n",
              "    </tr>\n",
              "    <tr>\n",
              "      <th>1</th>\n",
              "      <td>13.20</td>\n",
              "      <td>1.78</td>\n",
              "      <td>2.14</td>\n",
              "      <td>11.2</td>\n",
              "      <td>100</td>\n",
              "      <td>2.65</td>\n",
              "      <td>2.76</td>\n",
              "      <td>0.26</td>\n",
              "      <td>1.28</td>\n",
              "      <td>4.38</td>\n",
              "      <td>1.05</td>\n",
              "      <td>3.40</td>\n",
              "      <td>1050</td>\n",
              "    </tr>\n",
              "    <tr>\n",
              "      <th>2</th>\n",
              "      <td>13.16</td>\n",
              "      <td>2.36</td>\n",
              "      <td>2.67</td>\n",
              "      <td>18.6</td>\n",
              "      <td>101</td>\n",
              "      <td>2.80</td>\n",
              "      <td>3.24</td>\n",
              "      <td>0.30</td>\n",
              "      <td>2.81</td>\n",
              "      <td>5.68</td>\n",
              "      <td>1.03</td>\n",
              "      <td>3.17</td>\n",
              "      <td>1185</td>\n",
              "    </tr>\n",
              "    <tr>\n",
              "      <th>3</th>\n",
              "      <td>14.37</td>\n",
              "      <td>1.95</td>\n",
              "      <td>2.50</td>\n",
              "      <td>16.8</td>\n",
              "      <td>113</td>\n",
              "      <td>3.85</td>\n",
              "      <td>3.49</td>\n",
              "      <td>0.24</td>\n",
              "      <td>2.18</td>\n",
              "      <td>7.80</td>\n",
              "      <td>0.86</td>\n",
              "      <td>3.45</td>\n",
              "      <td>1480</td>\n",
              "    </tr>\n",
              "    <tr>\n",
              "      <th>4</th>\n",
              "      <td>13.24</td>\n",
              "      <td>2.59</td>\n",
              "      <td>2.87</td>\n",
              "      <td>21.0</td>\n",
              "      <td>118</td>\n",
              "      <td>2.80</td>\n",
              "      <td>2.69</td>\n",
              "      <td>0.39</td>\n",
              "      <td>1.82</td>\n",
              "      <td>4.32</td>\n",
              "      <td>1.04</td>\n",
              "      <td>2.93</td>\n",
              "      <td>735</td>\n",
              "    </tr>\n",
              "  </tbody>\n",
              "</table>\n",
              "</div>"
            ],
            "text/plain": [
              "   Alcohol  Malic_Acid   Ash  ...   Hue  OD280  Proline\n",
              "0    14.23        1.71  2.43  ...  1.04   3.92     1065\n",
              "1    13.20        1.78  2.14  ...  1.05   3.40     1050\n",
              "2    13.16        2.36  2.67  ...  1.03   3.17     1185\n",
              "3    14.37        1.95  2.50  ...  0.86   3.45     1480\n",
              "4    13.24        2.59  2.87  ...  1.04   2.93      735\n",
              "\n",
              "[5 rows x 13 columns]"
            ]
          },
          "metadata": {},
          "execution_count": 6
        }
      ]
    },
    {
      "cell_type": "code",
      "metadata": {
        "id": "D7q5TvlmMZli"
      },
      "source": [
        "# Sử dụng Standard Scaler để chuẩn hóa\n",
        "from sklearn.preprocessing import StandardScaler"
      ],
      "execution_count": 7,
      "outputs": []
    },
    {
      "cell_type": "code",
      "metadata": {
        "id": "_ZoY3bZrNyyY"
      },
      "source": [
        "scaler = StandardScaler()\n",
        "X= scaler.fit_transform(data)"
      ],
      "execution_count": 8,
      "outputs": []
    },
    {
      "cell_type": "code",
      "metadata": {
        "id": "no4LpUxDR_hu"
      },
      "source": [
        "# Sử dụng PCA để giảm chiều dữ liệu xuống 2\n",
        "from sklearn.decomposition import PCA\n",
        "pca = PCA(n_components=2)\n",
        "X_preprocess=pca.fit_transform(X)"
      ],
      "execution_count": 9,
      "outputs": []
    },
    {
      "cell_type": "code",
      "metadata": {
        "colab": {
          "base_uri": "https://localhost:8080/"
        },
        "id": "Mnajggm1SOtf",
        "outputId": "3da92296-d24a-4d34-9090-499f463f36fc"
      },
      "source": [
        "X_preprocess"
      ],
      "execution_count": 10,
      "outputs": [
        {
          "output_type": "execute_result",
          "data": {
            "text/plain": [
              "array([[ 3.31675081, -1.44346263],\n",
              "       [ 2.20946492,  0.33339289],\n",
              "       [ 2.51674015, -1.0311513 ],\n",
              "       [ 3.75706561, -2.75637191],\n",
              "       [ 1.00890849, -0.86983082],\n",
              "       [ 3.05025392, -2.12240111],\n",
              "       [ 2.44908967, -1.17485013],\n",
              "       [ 2.05943687, -1.60896307],\n",
              "       [ 2.5108743 , -0.91807096],\n",
              "       [ 2.75362819, -0.78943767],\n",
              "       [ 3.47973668, -1.30233324],\n",
              "       [ 1.7547529 , -0.61197723],\n",
              "       [ 2.11346234, -0.67570634],\n",
              "       [ 3.45815682, -1.13062988],\n",
              "       [ 4.31278391, -2.09597558],\n",
              "       [ 2.3051882 , -1.66255173],\n",
              "       [ 2.17195527, -2.32730534],\n",
              "       [ 1.89897118, -1.63136888],\n",
              "       [ 3.54198508, -2.51834367],\n",
              "       [ 2.0845222 , -1.06113799],\n",
              "       [ 3.12440254, -0.78689711],\n",
              "       [ 1.08657007, -0.24174355],\n",
              "       [ 2.53522408,  0.09184062],\n",
              "       [ 1.64498834,  0.51627893],\n",
              "       [ 1.76157587,  0.31714893],\n",
              "       [ 0.9900791 , -0.94066734],\n",
              "       [ 1.77527763, -0.68617513],\n",
              "       [ 1.23542396,  0.08980704],\n",
              "       [ 2.18840633, -0.68956962],\n",
              "       [ 2.25610898, -0.19146194],\n",
              "       [ 2.50022003, -1.24083383],\n",
              "       [ 2.67741105, -1.47187365],\n",
              "       [ 1.62857912, -0.05270445],\n",
              "       [ 1.90269086, -1.63306043],\n",
              "       [ 1.41038853, -0.69793432],\n",
              "       [ 1.90382623, -0.17671095],\n",
              "       [ 1.38486223, -0.65863985],\n",
              "       [ 1.12220741, -0.11410976],\n",
              "       [ 1.5021945 ,  0.76943201],\n",
              "       [ 2.52980109, -1.80300198],\n",
              "       [ 2.58809543, -0.7796163 ],\n",
              "       [ 0.66848199, -0.16996094],\n",
              "       [ 3.07080699, -1.15591896],\n",
              "       [ 0.46220914, -0.33074213],\n",
              "       [ 2.10135193,  0.07100892],\n",
              "       [ 1.13616618, -1.77710739],\n",
              "       [ 2.72660096, -1.19133469],\n",
              "       [ 2.82133927, -0.6462586 ],\n",
              "       [ 2.00985085, -1.24702946],\n",
              "       [ 2.7074913 , -1.75196741],\n",
              "       [ 3.21491747, -0.16699199],\n",
              "       [ 2.85895983, -0.7452788 ],\n",
              "       [ 3.50560436, -1.61273386],\n",
              "       [ 2.22479138, -1.875168  ],\n",
              "       [ 2.14698782, -1.01675154],\n",
              "       [ 2.46932948, -1.32900831],\n",
              "       [ 2.74151791, -1.43654878],\n",
              "       [ 2.17374092, -1.21219984],\n",
              "       [ 3.13938015, -1.73157912],\n",
              "       [-0.92858197,  3.07348616],\n",
              "       [-1.54248014,  1.38144351],\n",
              "       [-1.83624976,  0.82998412],\n",
              "       [ 0.03060683,  1.26278614],\n",
              "       [ 2.05026161,  1.9250326 ],\n",
              "       [-0.60968083,  1.90805881],\n",
              "       [ 0.90022784,  0.76391147],\n",
              "       [ 2.24850719,  1.88459248],\n",
              "       [ 0.18338403,  2.42714611],\n",
              "       [-0.81280503,  0.22051399],\n",
              "       [ 1.9756205 ,  1.40328323],\n",
              "       [-1.57221622,  0.88498314],\n",
              "       [ 1.65768181,  0.9567122 ],\n",
              "       [-0.72537239,  1.0636454 ],\n",
              "       [ 2.56222717, -0.26019855],\n",
              "       [ 1.83256757,  1.2878782 ],\n",
              "       [-0.8679929 ,  2.44410119],\n",
              "       [ 0.3700144 ,  2.15390698],\n",
              "       [-1.45737704,  1.38335177],\n",
              "       [ 1.26293085,  0.77084953],\n",
              "       [ 0.37615037,  1.0270434 ],\n",
              "       [ 0.7620639 ,  3.37505381],\n",
              "       [ 1.03457797,  1.45070974],\n",
              "       [-0.49487676,  2.38124353],\n",
              "       [-2.53897708,  0.08744336],\n",
              "       [ 0.83532015,  1.47367055],\n",
              "       [ 0.78790461,  2.02662652],\n",
              "       [-0.80683216,  2.23383039],\n",
              "       [-0.55804262,  2.37298543],\n",
              "       [-1.11511104,  1.80224719],\n",
              "       [-0.55572283,  2.65754004],\n",
              "       [-1.34928528,  2.11800147],\n",
              "       [-1.56448261,  1.85221452],\n",
              "       [-1.93255561,  1.55949546],\n",
              "       [ 0.74666594,  2.31293171],\n",
              "       [ 0.95745536,  2.22352843],\n",
              "       [ 2.54386518, -0.16927402],\n",
              "       [-0.54395259,  0.36892655],\n",
              "       [ 1.03104975,  2.56556935],\n",
              "       [ 2.25190942,  1.43274138],\n",
              "       [ 1.41021602,  2.16619177],\n",
              "       [ 0.79771979,  2.3769488 ],\n",
              "       [-0.54953173,  2.29312864],\n",
              "       [-0.16117374,  1.16448332],\n",
              "       [-0.65979494,  2.67996119],\n",
              "       [ 0.39235441,  2.09873171],\n",
              "       [-1.77249908,  1.71728847],\n",
              "       [-0.36626736,  2.1693533 ],\n",
              "       [-1.62067257,  1.35558339],\n",
              "       [ 0.08253578,  2.30623459],\n",
              "       [ 1.57827507,  1.46203429],\n",
              "       [ 1.42056925,  1.41820664],\n",
              "       [-0.27870275,  1.93056809],\n",
              "       [-1.30314497,  0.76317231],\n",
              "       [-0.45707187,  2.26941561],\n",
              "       [-0.49418585,  1.93904505],\n",
              "       [ 0.48207441,  3.87178385],\n",
              "       [-0.25288888,  2.82149237],\n",
              "       [-0.10722764,  1.92892204],\n",
              "       [-2.4330126 ,  1.25714104],\n",
              "       [-0.55108954,  2.22216155],\n",
              "       [ 0.73962193,  1.40895667],\n",
              "       [ 1.33632173, -0.25333693],\n",
              "       [-1.177087  ,  0.66396684],\n",
              "       [-0.46233501,  0.61828818],\n",
              "       [ 0.97847408,  1.4455705 ],\n",
              "       [-0.09680973,  2.10999799],\n",
              "       [ 0.03848715,  1.26676211],\n",
              "       [-1.5971585 ,  1.20814357],\n",
              "       [-0.47956492,  1.93884066],\n",
              "       [-1.79283347,  1.1502881 ],\n",
              "       [-1.32710166, -0.17038923],\n",
              "       [-2.38450083, -0.37458261],\n",
              "       [-2.9369401 , -0.26386183],\n",
              "       [-2.14681113, -0.36825495],\n",
              "       [-2.36986949,  0.45963481],\n",
              "       [-3.06384157, -0.35341284],\n",
              "       [-3.91575378, -0.15458252],\n",
              "       [-3.93646339, -0.65968723],\n",
              "       [-3.09427612, -0.34884276],\n",
              "       [-2.37447163, -0.29198035],\n",
              "       [-2.77881295, -0.28680487],\n",
              "       [-2.28656128, -0.37250784],\n",
              "       [-2.98563349, -0.48921791],\n",
              "       [-2.3751947 , -0.48233372],\n",
              "       [-2.20986553, -1.1600525 ],\n",
              "       [-2.625621  , -0.56316076],\n",
              "       [-4.28063878, -0.64967096],\n",
              "       [-3.58264137, -1.27270275],\n",
              "       [-2.80706372, -1.57053379],\n",
              "       [-2.89965933, -2.04105701],\n",
              "       [-2.32073698, -2.35636608],\n",
              "       [-2.54983095, -2.04528309],\n",
              "       [-1.81254128, -1.52764595],\n",
              "       [-2.76014464, -2.13893235],\n",
              "       [-2.7371505 , -0.40988627],\n",
              "       [-3.60486887, -1.80238422],\n",
              "       [-2.889826  , -1.92521861],\n",
              "       [-3.39215608, -1.31187639],\n",
              "       [-1.0481819 , -3.51508969],\n",
              "       [-1.60991228, -2.40663816],\n",
              "       [-3.14313097, -0.73816104],\n",
              "       [-2.2401569 , -1.17546529],\n",
              "       [-2.84767378, -0.55604397],\n",
              "       [-2.59749706, -0.69796554],\n",
              "       [-2.94929937, -1.55530896],\n",
              "       [-3.53003227, -0.8825268 ],\n",
              "       [-2.40611054, -2.59235618],\n",
              "       [-2.92908473, -1.27444695],\n",
              "       [-2.18141278, -2.07753731],\n",
              "       [-2.38092779, -2.58866743],\n",
              "       [-3.21161722,  0.2512491 ],\n",
              "       [-3.67791872, -0.84774784],\n",
              "       [-2.4655558 , -2.1937983 ],\n",
              "       [-3.37052415, -2.21628914],\n",
              "       [-2.60195585, -1.75722935],\n",
              "       [-2.67783946, -2.76089913],\n",
              "       [-2.38701709, -2.29734668],\n",
              "       [-3.20875816, -2.76891957]])"
            ]
          },
          "metadata": {},
          "execution_count": 10
        }
      ]
    },
    {
      "cell_type": "code",
      "metadata": {
        "id": "VrSTSstkVUHm"
      },
      "source": [
        "# Phân chia tập train và test\n",
        "from sklearn.model_selection import train_test_split\n",
        "X_train, X_test, y_train, y_test = train_test_split(X_preprocess,labels, test_size = 0.2, random_state = 50)\n",
        "from sklearn.linear_model import LogisticRegression"
      ],
      "execution_count": 12,
      "outputs": []
    },
    {
      "cell_type": "markdown",
      "metadata": {
        "id": "CFMdP1jtoBaV"
      },
      "source": [
        "# Train model và tìm độ chính xác"
      ]
    },
    {
      "cell_type": "code",
      "metadata": {
        "colab": {
          "base_uri": "https://localhost:8080/"
        },
        "id": "cEFXn-_un2pu",
        "outputId": "46f678b3-ca95-4e27-aa09-bd0ff04f417c"
      },
      "source": [
        "model=LogisticRegression()\n",
        "model.fit(X_train,y_train)\n",
        "# score = model.score(x_test, y_test)\n",
        "y_pred=model.predict(X_test)\n",
        "score = model.score(X_test, y_test)\n",
        "print(score)"
      ],
      "execution_count": 13,
      "outputs": [
        {
          "output_type": "stream",
          "name": "stdout",
          "text": [
            "0.9166666666666666\n"
          ]
        }
      ]
    },
    {
      "cell_type": "code",
      "metadata": {
        "id": "0bdYN5Kin_po"
      },
      "source": [
        "import matplotlib.pyplot as plt\n",
        "from sklearn.metrics import confusion_matrix\n",
        "\n",
        "def plot_confusion_matrix(cm, classes,\n",
        "                          normalize=False,\n",
        "                          title='Confusion matrix',\n",
        "                          cmap=plt.cm.Blues):\n",
        "    \"\"\"\n",
        "    This function prints and plots the confusion matrix.\n",
        "    Normalization can be applied by setting `normalize=True`.\n",
        "    \"\"\"\n",
        "    import itertools\n",
        "    if normalize:\n",
        "        cm = cm.astype('float') / cm.sum(axis=1)[:, np.newaxis]\n",
        "        print(\"Normalized confusion matrix\")\n",
        "    else:\n",
        "        print('Confusion matrix, without normalization')\n",
        "\n",
        "    print(cm)\n",
        "\n",
        "    plt.imshow(cm, interpolation='nearest', cmap=cmap)\n",
        "    plt.title(title)\n",
        "    plt.colorbar()\n",
        "    tick_marks = np.arange(len(classes))\n",
        "    plt.xticks(tick_marks, classes, rotation=45)\n",
        "    plt.yticks(tick_marks, classes)\n",
        "\n",
        "    fmt = '.2f' if normalize else 'd'\n",
        "    thresh = cm.max() / 2.\n",
        "    for i, j in itertools.product(range(cm.shape[0]), range(cm.shape[1])):\n",
        "        plt.text(j, i, format(cm[i, j], fmt),\n",
        "                 horizontalalignment=\"center\",\n",
        "                 color=\"white\" if cm[i, j] > thresh else \"black\")\n",
        "\n",
        "    plt.ylabel('True label')\n",
        "    plt.xlabel('Predicted label')\n",
        "    plt.tight_layout()"
      ],
      "execution_count": 14,
      "outputs": []
    },
    {
      "cell_type": "code",
      "metadata": {
        "colab": {
          "base_uri": "https://localhost:8080/",
          "height": 364
        },
        "id": "oP6uTnqEoKuy",
        "outputId": "4a86eec2-b77b-4836-df42-2fcca9fa27c4"
      },
      "source": [
        "cnf_matrix = confusion_matrix(y_test, y_pred, labels=[1, 2, 3])\n",
        "plot_confusion_matrix(cnf_matrix, classes=[1, 2, 3],\n",
        "                      title='Confusion matrix, without normalization')"
      ],
      "execution_count": 16,
      "outputs": [
        {
          "output_type": "stream",
          "name": "stdout",
          "text": [
            "Confusion matrix, without normalization\n",
            "[[11  2  0]\n",
            " [ 1 13  0]\n",
            " [ 0  0  9]]\n"
          ]
        },
        {
          "output_type": "display_data",
          "data": {
            "image/png": "[encoded data removed]",
            "text/plain": [
              "<Figure size 432x288 with 2 Axes>"
            ]
          },
          "metadata": {
            "needs_background": "light"
          }
        }
      ]
    },
    {
      "cell_type": "code",
      "metadata": {
        "id": "6RMBV_39oM2l"
      },
      "source": [
        "from sklearn.metrics import classification_report"
      ],
      "execution_count": 17,
      "outputs": []
    },
    {
      "cell_type": "code",
      "metadata": {
        "colab": {
          "base_uri": "https://localhost:8080/"
        },
        "id": "Wy5JhynWoNNO",
        "outputId": "4b074ac6-28c1-41b6-9de8-6abbf577b194"
      },
      "source": [
        "print(classification_report(y_test, y_pred, target_names=['1', '2', '3']))"
      ],
      "execution_count": 18,
      "outputs": [
        {
          "output_type": "stream",
          "name": "stdout",
          "text": [
            "              precision    recall  f1-score   support\n",
            "\n",
            "           1       0.92      0.85      0.88        13\n",
            "           2       0.87      0.93      0.90        14\n",
            "           3       1.00      1.00      1.00         9\n",
            "\n",
            "    accuracy                           0.92        36\n",
            "   macro avg       0.93      0.92      0.93        36\n",
            "weighted avg       0.92      0.92      0.92        36\n",
            "\n"
          ]
        }
      ]
    },
    {
      "cell_type": "markdown",
      "metadata": {
        "id": "86dr86TioSNi"
      },
      "source": [
        "#Sử dụng cross validation"
      ]
    },
    {
      "cell_type": "code",
      "metadata": {
        "id": "-bmGFSsyhvNZ"
      },
      "source": [
        "X,y=X_preprocess,labels"
      ],
      "execution_count": 19,
      "outputs": []
    },
    {
      "cell_type": "code",
      "metadata": {
        "colab": {
          "base_uri": "https://localhost:8080/"
        },
        "id": "w27a9X77oedX",
        "outputId": "668e51d5-c33d-44be-9906-108ae1f2840f"
      },
      "source": [
        "from sklearn.model_selection import KFold\n",
        "\n",
        "kf = KFold(n_splits=5,random_state=42)\n",
        "\n",
        "scores = []\n",
        "for train_index, test_index in kf.split(X,y):\n",
        "    model=LogisticRegression()\n",
        "    X_train, X_test = X[train_index], X[test_index]\n",
        "    y_train, y_test = y[train_index], y[test_index]\n",
        "    model.fit(X_train, y_train)\n",
        "    score=model.score(X_test,y_test)\n",
        "    scores.append(score)\n",
        "    \n",
        "print(\"Độ chính xác sử dụng KFold: \",np.mean(scores))"
      ],
      "execution_count": 20,
      "outputs": [
        {
          "output_type": "stream",
          "name": "stdout",
          "text": [
            "Độ chính xác sử dụng KFold:  0.9384126984126983\n"
          ]
        },
        {
          "output_type": "stream",
          "name": "stderr",
          "text": [
            "/usr/local/lib/python3.7/dist-packages/sklearn/model_selection/_split.py:296: FutureWarning: Setting a random_state has no effect since shuffle is False. This will raise an error in 0.24. You should leave random_state to its default (None), or set shuffle=True.\n",
            "  FutureWarning\n"
          ]
        }
      ]
    }
  ]
}