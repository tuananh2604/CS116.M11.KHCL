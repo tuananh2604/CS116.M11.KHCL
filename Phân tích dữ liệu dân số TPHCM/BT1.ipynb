{
  "nbformat": 4,
  "nbformat_minor": 0,
  "metadata": {
    "colab": {
      "name": "BT1.ipynb",
      "provenance": [],
      "collapsed_sections": []
    },
    "kernelspec": {
      "name": "python3",
      "display_name": "Python 3"
    },
    "language_info": {
      "name": "python"
    }
  },
  "cells": [
    {
      "cell_type": "code",
      "metadata": {
        "colab": {
          "base_uri": "https://localhost:8080/"
        },
        "id": "4SIShJWccm_7",
        "outputId": "1a333642-67e7-460e-e291-ea222aca210f"
      },
      "source": [
        "# Important library for many geopython libraries\n",
        "!apt install gdal-bin python-gdal python3-gdal \n",
        "# Install rtree - Geopandas requirment\n",
        "!apt install python3-rtree \n",
        "# Install Geopandas\n",
        "!pip install git+git://github.com/geopandas/geopandas.git\n",
        "# Install descartes - Geopandas requirment\n",
        "!pip install descartes \n",
        "# Install Folium for Geographic data visualization\n",
        "!pip install folium\n",
        "# Install plotlyExpress\n",
        "!pip install plotly_express"
      ],
      "execution_count": 1,
      "outputs": [
        {
          "output_type": "stream",
          "name": "stdout",
          "text": [
            "Reading package lists... Done\n",
            "Building dependency tree       \n",
            "Reading state information... Done\n",
            "gdal-bin is already the newest version (2.2.3+dfsg-2).\n",
            "python-gdal is already the newest version (2.2.3+dfsg-2).\n",
            "The following additional packages will be installed:\n",
            "  python3-numpy\n",
            "Suggested packages:\n",
            "  python-numpy-doc python3-nose python3-numpy-dbg\n",
            "The following NEW packages will be installed:\n",
            "  python3-gdal python3-numpy\n",
            "0 upgraded, 2 newly installed, 0 to remove and 37 not upgraded.\n",
            "Need to get 2,288 kB of archives.\n",
            "After this operation, 13.2 MB of additional disk space will be used.\n",
            "Get:1 http://archive.ubuntu.com/ubuntu bionic/main amd64 python3-numpy amd64 1:1.13.3-2ubuntu1 [1,943 kB]\n",
            "Get:2 http://archive.ubuntu.com/ubuntu bionic/universe amd64 python3-gdal amd64 2.2.3+dfsg-2 [346 kB]\n",
            "Fetched 2,288 kB in 1s (2,830 kB/s)\n",
            "Selecting previously unselected package python3-numpy.\n",
            "(Reading database ... 155013 files and directories currently installed.)\n",
            "Preparing to unpack .../python3-numpy_1%3a1.13.3-2ubuntu1_amd64.deb ...\n",
            "Unpacking python3-numpy (1:1.13.3-2ubuntu1) ...\n",
            "Selecting previously unselected package python3-gdal.\n",
            "Preparing to unpack .../python3-gdal_2.2.3+dfsg-2_amd64.deb ...\n",
            "Unpacking python3-gdal (2.2.3+dfsg-2) ...\n",
            "Setting up python3-numpy (1:1.13.3-2ubuntu1) ...\n",
            "Setting up python3-gdal (2.2.3+dfsg-2) ...\n",
            "Processing triggers for man-db (2.8.3-2ubuntu0.1) ...\n",
            "Reading package lists... Done\n",
            "Building dependency tree       \n",
            "Reading state information... Done\n",
            "The following additional packages will be installed:\n",
            "  libspatialindex-c4v5 libspatialindex-dev libspatialindex4v5\n",
            "  python3-pkg-resources\n",
            "Suggested packages:\n",
            "  python3-setuptools\n",
            "The following NEW packages will be installed:\n",
            "  libspatialindex-c4v5 libspatialindex-dev libspatialindex4v5\n",
            "  python3-pkg-resources python3-rtree\n",
            "0 upgraded, 5 newly installed, 0 to remove and 37 not upgraded.\n",
            "Need to get 671 kB of archives.\n",
            "After this operation, 3,948 kB of additional disk space will be used.\n",
            "Get:1 http://archive.ubuntu.com/ubuntu bionic/universe amd64 libspatialindex4v5 amd64 1.8.5-5 [219 kB]\n",
            "Get:2 http://archive.ubuntu.com/ubuntu bionic/universe amd64 libspatialindex-c4v5 amd64 1.8.5-5 [51.7 kB]\n",
            "Get:3 http://archive.ubuntu.com/ubuntu bionic/main amd64 python3-pkg-resources all 39.0.1-2 [98.8 kB]\n",
            "Get:4 http://archive.ubuntu.com/ubuntu bionic/universe amd64 libspatialindex-dev amd64 1.8.5-5 [285 kB]\n",
            "Get:5 http://archive.ubuntu.com/ubuntu bionic/universe amd64 python3-rtree all 0.8.3+ds-1 [16.9 kB]\n",
            "Fetched 671 kB in 1s (990 kB/s)\n",
            "Selecting previously unselected package libspatialindex4v5:amd64.\n",
            "(Reading database ... 155423 files and directories currently installed.)\n",
            "Preparing to unpack .../libspatialindex4v5_1.8.5-5_amd64.deb ...\n",
            "Unpacking libspatialindex4v5:amd64 (1.8.5-5) ...\n",
            "Selecting previously unselected package libspatialindex-c4v5:amd64.\n",
            "Preparing to unpack .../libspatialindex-c4v5_1.8.5-5_amd64.deb ...\n",
            "Unpacking libspatialindex-c4v5:amd64 (1.8.5-5) ...\n",
            "Selecting previously unselected package python3-pkg-resources.\n",
            "Preparing to unpack .../python3-pkg-resources_39.0.1-2_all.deb ...\n",
            "Unpacking python3-pkg-resources (39.0.1-2) ...\n",
            "Selecting previously unselected package libspatialindex-dev:amd64.\n",
            "Preparing to unpack .../libspatialindex-dev_1.8.5-5_amd64.deb ...\n",
            "Unpacking libspatialindex-dev:amd64 (1.8.5-5) ...\n",
            "Selecting previously unselected package python3-rtree.\n",
            "Preparing to unpack .../python3-rtree_0.8.3+ds-1_all.deb ...\n",
            "Unpacking python3-rtree (0.8.3+ds-1) ...\n",
            "Setting up libspatialindex4v5:amd64 (1.8.5-5) ...\n",
            "Setting up python3-pkg-resources (39.0.1-2) ...\n",
            "Setting up libspatialindex-c4v5:amd64 (1.8.5-5) ...\n",
            "Setting up libspatialindex-dev:amd64 (1.8.5-5) ...\n",
            "Setting up python3-rtree (0.8.3+ds-1) ...\n",
            "Processing triggers for libc-bin (2.27-3ubuntu1.3) ...\n",
            "/sbin/ldconfig.real: /usr/local/lib/python3.7/dist-packages/ideep4py/lib/libmkldnn.so.0 is not a symbolic link\n",
            "\n",
            "Collecting git+git://github.com/geopandas/geopandas.git\n",
            "  Cloning git://github.com/geopandas/geopandas.git to /tmp/pip-req-build-f1u8qvz8\n",
            "  Running command git clone -q git://github.com/geopandas/geopandas.git /tmp/pip-req-build-f1u8qvz8\n",
            "Requirement already satisfied: pandas>=0.25.0 in /usr/local/lib/python3.7/dist-packages (from geopandas==0.9.0+80.gb67ba84) (1.1.5)\n",
            "Requirement already satisfied: shapely>=1.6 in /usr/local/lib/python3.7/dist-packages (from geopandas==0.9.0+80.gb67ba84) (1.7.1)\n",
            "Collecting fiona>=1.8\n",
            "  Downloading Fiona-1.8.20-cp37-cp37m-manylinux1_x86_64.whl (15.4 MB)\n",
            "\u001b[K     |████████████████████████████████| 15.4 MB 38 kB/s \n",
            "\u001b[?25hCollecting pyproj>=2.2.0\n",
            "  Downloading pyproj-3.2.1-cp37-cp37m-manylinux2010_x86_64.whl (6.3 MB)\n",
            "\u001b[K     |████████████████████████████████| 6.3 MB 48.4 MB/s \n",
            "\u001b[?25hRequirement already satisfied: six>=1.7 in /usr/local/lib/python3.7/dist-packages (from fiona>=1.8->geopandas==0.9.0+80.gb67ba84) (1.15.0)\n",
            "Requirement already satisfied: attrs>=17 in /usr/local/lib/python3.7/dist-packages (from fiona>=1.8->geopandas==0.9.0+80.gb67ba84) (21.2.0)\n",
            "Requirement already satisfied: setuptools in /usr/local/lib/python3.7/dist-packages (from fiona>=1.8->geopandas==0.9.0+80.gb67ba84) (57.4.0)\n",
            "Collecting munch\n",
            "  Downloading munch-2.5.0-py2.py3-none-any.whl (10 kB)\n",
            "Requirement already satisfied: click>=4.0 in /usr/local/lib/python3.7/dist-packages (from fiona>=1.8->geopandas==0.9.0+80.gb67ba84) (7.1.2)\n",
            "Collecting cligj>=0.5\n",
            "  Downloading cligj-0.7.2-py3-none-any.whl (7.1 kB)\n",
            "Requirement already satisfied: certifi in /usr/local/lib/python3.7/dist-packages (from fiona>=1.8->geopandas==0.9.0+80.gb67ba84) (2021.5.30)\n",
            "Collecting click-plugins>=1.0\n",
            "  Downloading click_plugins-1.1.1-py2.py3-none-any.whl (7.5 kB)\n",
            "Requirement already satisfied: python-dateutil>=2.7.3 in /usr/local/lib/python3.7/dist-packages (from pandas>=0.25.0->geopandas==0.9.0+80.gb67ba84) (2.8.2)\n",
            "Requirement already satisfied: numpy>=1.15.4 in /usr/local/lib/python3.7/dist-packages (from pandas>=0.25.0->geopandas==0.9.0+80.gb67ba84) (1.19.5)\n",
            "Requirement already satisfied: pytz>=2017.2 in /usr/local/lib/python3.7/dist-packages (from pandas>=0.25.0->geopandas==0.9.0+80.gb67ba84) (2018.9)\n",
            "Building wheels for collected packages: geopandas\n",
            "  Building wheel for geopandas (setup.py) ... \u001b[?25l\u001b[?25hdone\n",
            "  Created wheel for geopandas: filename=geopandas-0.9.0+80.gb67ba84-py2.py3-none-any.whl size=1001056 sha256=3b27340bc4184ec25ecf157e42b32f214dc2670d3731b5154b2beb858b18e1f4\n",
            "  Stored in directory: /tmp/pip-ephem-wheel-cache-wsfxcdui/wheels/cf/3e/0b/6475054094c2b1ea054158ac1fdcf749fb92f5b512377e4cf8\n",
            "Successfully built geopandas\n",
            "Installing collected packages: munch, cligj, click-plugins, pyproj, fiona, geopandas\n",
            "Successfully installed click-plugins-1.1.1 cligj-0.7.2 fiona-1.8.20 geopandas-0.9.0+80.gb67ba84 munch-2.5.0 pyproj-3.2.1\n",
            "Requirement already satisfied: descartes in /usr/local/lib/python3.7/dist-packages (1.1.0)\n",
            "Requirement already satisfied: matplotlib in /usr/local/lib/python3.7/dist-packages (from descartes) (3.2.2)\n",
            "Requirement already satisfied: numpy>=1.11 in /usr/local/lib/python3.7/dist-packages (from matplotlib->descartes) (1.19.5)\n",
            "Requirement already satisfied: cycler>=0.10 in /usr/local/lib/python3.7/dist-packages (from matplotlib->descartes) (0.10.0)\n",
            "Requirement already satisfied: python-dateutil>=2.1 in /usr/local/lib/python3.7/dist-packages (from matplotlib->descartes) (2.8.2)\n",
            "Requirement already satisfied: pyparsing!=2.0.4,!=2.1.2,!=2.1.6,>=2.0.1 in /usr/local/lib/python3.7/dist-packages (from matplotlib->descartes) (2.4.7)\n",
            "Requirement already satisfied: kiwisolver>=1.0.1 in /usr/local/lib/python3.7/dist-packages (from matplotlib->descartes) (1.3.2)\n",
            "Requirement already satisfied: six in /usr/local/lib/python3.7/dist-packages (from cycler>=0.10->matplotlib->descartes) (1.15.0)\n",
            "Requirement already satisfied: folium in /usr/local/lib/python3.7/dist-packages (0.8.3)\n",
            "Requirement already satisfied: requests in /usr/local/lib/python3.7/dist-packages (from folium) (2.23.0)\n",
            "Requirement already satisfied: six in /usr/local/lib/python3.7/dist-packages (from folium) (1.15.0)\n",
            "Requirement already satisfied: jinja2 in /usr/local/lib/python3.7/dist-packages (from folium) (2.11.3)\n",
            "Requirement already satisfied: branca>=0.3.0 in /usr/local/lib/python3.7/dist-packages (from folium) (0.4.2)\n",
            "Requirement already satisfied: numpy in /usr/local/lib/python3.7/dist-packages (from folium) (1.19.5)\n",
            "Requirement already satisfied: MarkupSafe>=0.23 in /usr/local/lib/python3.7/dist-packages (from jinja2->folium) (2.0.1)\n",
            "Requirement already satisfied: idna<3,>=2.5 in /usr/local/lib/python3.7/dist-packages (from requests->folium) (2.10)\n",
            "Requirement already satisfied: chardet<4,>=3.0.2 in /usr/local/lib/python3.7/dist-packages (from requests->folium) (3.0.4)\n",
            "Requirement already satisfied: urllib3!=1.25.0,!=1.25.1,<1.26,>=1.21.1 in /usr/local/lib/python3.7/dist-packages (from requests->folium) (1.24.3)\n",
            "Requirement already satisfied: certifi>=2017.4.17 in /usr/local/lib/python3.7/dist-packages (from requests->folium) (2021.5.30)\n",
            "Collecting plotly_express\n",
            "  Downloading plotly_express-0.4.1-py2.py3-none-any.whl (2.9 kB)\n",
            "Requirement already satisfied: pandas>=0.20.0 in /usr/local/lib/python3.7/dist-packages (from plotly_express) (1.1.5)\n",
            "Requirement already satisfied: scipy>=0.18 in /usr/local/lib/python3.7/dist-packages (from plotly_express) (1.4.1)\n",
            "Requirement already satisfied: numpy>=1.11 in /usr/local/lib/python3.7/dist-packages (from plotly_express) (1.19.5)\n",
            "Requirement already satisfied: plotly>=4.1.0 in /usr/local/lib/python3.7/dist-packages (from plotly_express) (4.4.1)\n",
            "Requirement already satisfied: patsy>=0.5 in /usr/local/lib/python3.7/dist-packages (from plotly_express) (0.5.1)\n",
            "Requirement already satisfied: statsmodels>=0.9.0 in /usr/local/lib/python3.7/dist-packages (from plotly_express) (0.10.2)\n",
            "Requirement already satisfied: python-dateutil>=2.7.3 in /usr/local/lib/python3.7/dist-packages (from pandas>=0.20.0->plotly_express) (2.8.2)\n",
            "Requirement already satisfied: pytz>=2017.2 in /usr/local/lib/python3.7/dist-packages (from pandas>=0.20.0->plotly_express) (2018.9)\n",
            "Requirement already satisfied: six in /usr/local/lib/python3.7/dist-packages (from patsy>=0.5->plotly_express) (1.15.0)\n",
            "Requirement already satisfied: retrying>=1.3.3 in /usr/local/lib/python3.7/dist-packages (from plotly>=4.1.0->plotly_express) (1.3.3)\n",
            "Installing collected packages: plotly-express\n",
            "Successfully installed plotly-express-0.4.1\n"
          ]
        }
      ]
    },
    {
      "cell_type": "code",
      "metadata": {
        "id": "hHBTQYcjdi_f"
      },
      "source": [
        "import pandas as pd\n",
        "import numpy as np\n",
        "import geopandas as gpd\n",
        "from shapely.geometry import Point\n",
        "import matplotlib\n",
        "import matplotlib.pyplot as plt \n",
        "import folium\n",
        "import plotly_express as px"
      ],
      "execution_count": 2,
      "outputs": []
    },
    {
      "cell_type": "code",
      "metadata": {
        "colab": {
          "base_uri": "https://localhost:8080/"
        },
        "id": "hsjyLdUddmrS",
        "outputId": "0ab89cbf-81d9-46e8-b053-feef9af681a4"
      },
      "source": [
        "!git clone --recursive https://github.com/CityScope/CSL_HCMC/"
      ],
      "execution_count": 3,
      "outputs": [
        {
          "output_type": "stream",
          "name": "stdout",
          "text": [
            "Cloning into 'CSL_HCMC'...\n",
            "remote: Enumerating objects: 1930, done.\u001b[K\n",
            "remote: Counting objects: 100% (590/590), done.\u001b[K\n",
            "remote: Compressing objects: 100% (315/315), done.\u001b[K\n",
            "remote: Total 1930 (delta 308), reused 500 (delta 269), pack-reused 1340\u001b[K\n",
            "Receiving objects: 100% (1930/1930), 179.02 MiB | 25.09 MiB/s, done.\n",
            "Resolving deltas: 100% (985/985), done.\n",
            "Checking out files: 100% (542/542), done.\n",
            "Submodule 'modules/CS_Spatial_Modules' (https://github.com/CityScope/CS_Spatial_Modules.git) registered for path 'modules/CS_Spatial_Modules'\n",
            "Cloning into '/content/CSL_HCMC/modules/CS_Spatial_Modules'...\n",
            "remote: Enumerating objects: 283, done.        \n",
            "remote: Counting objects: 100% (283/283), done.        \n",
            "remote: Compressing objects: 100% (187/187), done.        \n",
            "remote: Total 283 (delta 162), reused 209 (delta 91), pack-reused 0        \n",
            "Receiving objects: 100% (283/283), 5.02 MiB | 20.73 MiB/s, done.\n",
            "Resolving deltas: 100% (162/162), done.\n",
            "Submodule path 'modules/CS_Spatial_Modules': checked out 'ca049a8164d72ecbd6af97b20f6f05b4290bbe41'\n"
          ]
        }
      ]
    },
    {
      "cell_type": "code",
      "metadata": {
        "colab": {
          "base_uri": "https://localhost:8080/"
        },
        "id": "Q4xgXda0e7CX",
        "outputId": "2511351a-3062-46f6-bf04-0fcc423c5727"
      },
      "source": [
        "!ls CSL_HCMC/Data/GIS/Population/population_HCMC/population_shapefile/"
      ],
      "execution_count": 16,
      "outputs": [
        {
          "output_type": "stream",
          "name": "stdout",
          "text": [
            "Population_District_Level.cpg\t   Population_Ward_Level.cpg\n",
            "Population_District_Level.dbf\t   Population_Ward_Level.dbf\n",
            "Population_District_Level.prj\t   Population_Ward_Level.prj\n",
            "Population_District_Level.sbn\t   Population_Ward_Level.sbn\n",
            "Population_District_Level.sbx\t   Population_Ward_Level.sbx\n",
            "Population_District_Level.shp\t   Population_Ward_Level.shp\n",
            "Population_District_Level.shp.xml  Population_Ward_Level.shp.xml\n",
            "Population_District_Level.shx\t   Population_Ward_Level.shx\n"
          ]
        }
      ]
    },
    {
      "cell_type": "code",
      "metadata": {
        "id": "sZhUTAQng0yf"
      },
      "source": [
        "import geopandas as gpd"
      ],
      "execution_count": 18,
      "outputs": []
    },
    {
      "cell_type": "code",
      "metadata": {
        "id": "xGPEDH_6hME8"
      },
      "source": [
        "data = gpd.read_file('CSL_HCMC/Data/GIS/Population/population_HCMC/population_shapefile/Population_Ward_Level.shp')"
      ],
      "execution_count": 19,
      "outputs": []
    },
    {
      "cell_type": "code",
      "metadata": {
        "colab": {
          "base_uri": "https://localhost:8080/",
          "height": 203
        },
        "id": "9wyeuriMhPzl",
        "outputId": "12c8cc01-3de2-4549-a7b6-38d81cf0788f"
      },
      "source": [
        "data.head()"
      ],
      "execution_count": 20,
      "outputs": [
        {
          "output_type": "execute_result",
          "data": {
            "text/html": [
              "<div>\n",
              "<style scoped>\n",
              "    .dataframe tbody tr th:only-of-type {\n",
              "        vertical-align: middle;\n",
              "    }\n",
              "\n",
              "    .dataframe tbody tr th {\n",
              "        vertical-align: top;\n",
              "    }\n",
              "\n",
              "    .dataframe thead th {\n",
              "        text-align: right;\n",
              "    }\n",
              "</style>\n",
              "<table border=\"1\" class=\"dataframe\">\n",
              "  <thead>\n",
              "    <tr style=\"text-align: right;\">\n",
              "      <th></th>\n",
              "      <th>Com_Name</th>\n",
              "      <th>Dist_Name</th>\n",
              "      <th>Com_ID</th>\n",
              "      <th>Dist_ID</th>\n",
              "      <th>Level</th>\n",
              "      <th>Pop_2009</th>\n",
              "      <th>Pop_2019</th>\n",
              "      <th>Den_2009</th>\n",
              "      <th>Den_2019</th>\n",
              "      <th>Shape_Leng</th>\n",
              "      <th>Shape_Area</th>\n",
              "      <th>geometry</th>\n",
              "    </tr>\n",
              "  </thead>\n",
              "  <tbody>\n",
              "    <tr>\n",
              "      <th>0</th>\n",
              "      <td>Tan Dinh</td>\n",
              "      <td>District 1</td>\n",
              "      <td>26734</td>\n",
              "      <td>760</td>\n",
              "      <td>Ward</td>\n",
              "      <td>26571.0</td>\n",
              "      <td>23258.0</td>\n",
              "      <td>41942.70</td>\n",
              "      <td>36713.10</td>\n",
              "      <td>3679.098196</td>\n",
              "      <td>6.334981e+05</td>\n",
              "      <td>POLYGON ((684350.511 1193546.266, 684363.810 1...</td>\n",
              "    </tr>\n",
              "    <tr>\n",
              "      <th>1</th>\n",
              "      <td>Ben Nghe</td>\n",
              "      <td>District 1</td>\n",
              "      <td>26740</td>\n",
              "      <td>760</td>\n",
              "      <td>Ward</td>\n",
              "      <td>13580.0</td>\n",
              "      <td>10633.0</td>\n",
              "      <td>5480.09</td>\n",
              "      <td>4290.86</td>\n",
              "      <td>6978.149149</td>\n",
              "      <td>2.478041e+06</td>\n",
              "      <td>POLYGON ((686564.657 1193462.473, 686588.924 1...</td>\n",
              "    </tr>\n",
              "    <tr>\n",
              "      <th>2</th>\n",
              "      <td>Cau Ong Lanh</td>\n",
              "      <td>District 1</td>\n",
              "      <td>26752</td>\n",
              "      <td>760</td>\n",
              "      <td>Ward</td>\n",
              "      <td>12917.0</td>\n",
              "      <td>10737.0</td>\n",
              "      <td>56878.90</td>\n",
              "      <td>47279.50</td>\n",
              "      <td>2260.705105</td>\n",
              "      <td>2.270938e+05</td>\n",
              "      <td>POLYGON ((685922.373 1190479.807, 685914.160 1...</td>\n",
              "    </tr>\n",
              "    <tr>\n",
              "      <th>3</th>\n",
              "      <td>Nguyen Thai Binh</td>\n",
              "      <td>District 1</td>\n",
              "      <td>26746</td>\n",
              "      <td>760</td>\n",
              "      <td>Ward</td>\n",
              "      <td>13197.0</td>\n",
              "      <td>9716.0</td>\n",
              "      <td>26798.80</td>\n",
              "      <td>19730.00</td>\n",
              "      <td>3320.174618</td>\n",
              "      <td>4.924426e+05</td>\n",
              "      <td>POLYGON ((685966.333 1190513.667, 685944.353 1...</td>\n",
              "    </tr>\n",
              "    <tr>\n",
              "      <th>4</th>\n",
              "      <td>Co Giang</td>\n",
              "      <td>District 1</td>\n",
              "      <td>26755</td>\n",
              "      <td>760</td>\n",
              "      <td>Ward</td>\n",
              "      <td>18967.0</td>\n",
              "      <td>11517.0</td>\n",
              "      <td>53327.60</td>\n",
              "      <td>32381.20</td>\n",
              "      <td>2525.453814</td>\n",
              "      <td>3.556650e+05</td>\n",
              "      <td>POLYGON ((685514.573 1190211.431, 685547.521 1...</td>\n",
              "    </tr>\n",
              "  </tbody>\n",
              "</table>\n",
              "</div>"
            ],
            "text/plain": [
              "           Com_Name  ...                                           geometry\n",
              "0          Tan Dinh  ...  POLYGON ((684350.511 1193546.266, 684363.810 1...\n",
              "1          Ben Nghe  ...  POLYGON ((686564.657 1193462.473, 686588.924 1...\n",
              "2      Cau Ong Lanh  ...  POLYGON ((685922.373 1190479.807, 685914.160 1...\n",
              "3  Nguyen Thai Binh  ...  POLYGON ((685966.333 1190513.667, 685944.353 1...\n",
              "4          Co Giang  ...  POLYGON ((685514.573 1190211.431, 685547.521 1...\n",
              "\n",
              "[5 rows x 12 columns]"
            ]
          },
          "metadata": {},
          "execution_count": 20
        }
      ]
    },
    {
      "cell_type": "code",
      "metadata": {
        "id": "OJC1O_gXhkl4"
      },
      "source": [
        "pop_2019 = data['Pop_2019'] # Dan so 2019\n",
        "max_pop2019_idx = pop_2019.idxmax()\n",
        "min_pop2019_idx = pop_2019.idxmin()\n",
        "\n",
        "pop_2009 = data['Pop_2009']\n",
        "\n",
        "area = data['Shape_Area']\n",
        "max_area_idx = area.idxmax()\n",
        "min_area_idx = area.idxmin()\n",
        "\n",
        "com_name = data['Com_Name']\n",
        "dist_name = data['Dist_Name']"
      ],
      "execution_count": 26,
      "outputs": []
    },
    {
      "cell_type": "code",
      "metadata": {
        "colab": {
          "base_uri": "https://localhost:8080/"
        },
        "id": "UmRvhURShsLk",
        "outputId": "292728fa-ec89-477f-f9f6-83a41c5ee4da"
      },
      "source": [
        "print(f\"Phuong co dan so cao nhat 2019 la {com_name[max_pop2019_idx]}, {dist_name[max_pop2019_idx]}\")"
      ],
      "execution_count": 45,
      "outputs": [
        {
          "output_type": "stream",
          "name": "stdout",
          "text": [
            "Phuong co dan so cao nhat 2019 la Vinh Loc A, Binh Chanh\n"
          ]
        }
      ]
    },
    {
      "cell_type": "code",
      "metadata": {
        "colab": {
          "base_uri": "https://localhost:8080/"
        },
        "id": "9eIWPjwshvBi",
        "outputId": "084c5926-cd63-4853-b62e-3a40722086fd"
      },
      "source": [
        "print(f\"Phuong co dan so thap nhat 2019 la {com_name[min_pop2019_idx]}, {dist_name[min_pop2019_idx]}\")"
      ],
      "execution_count": 44,
      "outputs": [
        {
          "output_type": "stream",
          "name": "stdout",
          "text": [
            "Phuong co dan so thap nhat 2019 la An Khanh, District 2\n"
          ]
        }
      ]
    },
    {
      "cell_type": "code",
      "metadata": {
        "colab": {
          "base_uri": "https://localhost:8080/"
        },
        "id": "h18b22C0hw7A",
        "outputId": "878d2e16-a5bb-4170-ffc1-6fe6804981f7"
      },
      "source": [
        "print(f\"Phuong co dien tich lon nhat la {com_name[max_area_idx]}, {dist_name[max_area_idx]}\")"
      ],
      "execution_count": 43,
      "outputs": [
        {
          "output_type": "stream",
          "name": "stdout",
          "text": [
            "Phuong co dien tich lon nhat la Ly Nhon, Can Gio\n"
          ]
        }
      ]
    },
    {
      "cell_type": "code",
      "metadata": {
        "colab": {
          "base_uri": "https://localhost:8080/"
        },
        "id": "n0k7xw8bhyRi",
        "outputId": "889e7e1a-d15a-48dd-c9bf-943bb7296082"
      },
      "source": [
        "print(f\"Phuong co dien tich nho nhat la {com_name[min_area_idx]}, {dist_name[min_area_idx]}\")"
      ],
      "execution_count": 42,
      "outputs": [
        {
          "output_type": "stream",
          "name": "stdout",
          "text": [
            "Phuong co dien tich nho nhat la Ward 3, District 10\n"
          ]
        }
      ]
    },
    {
      "cell_type": "code",
      "metadata": {
        "id": "560lZ1rhh1as"
      },
      "source": [
        "pg_pc = pop_2019 / pop_2009 # Ty le tang dan so\n",
        "max_pgpc_idx = pg_pc.idxmax()\n",
        "min_pgpc_idx = pg_pc.idxmin()"
      ],
      "execution_count": 41,
      "outputs": []
    },
    {
      "cell_type": "code",
      "metadata": {
        "colab": {
          "base_uri": "https://localhost:8080/"
        },
        "id": "TM7AITc8h4JU",
        "outputId": "61a59114-18a3-4f56-f55a-51d9e81e2978"
      },
      "source": [
        "print(f\"Phuong co ty le tang dan so cao nhat la {com_name[max_pgpc_idx]}, {dist_name[max_pgpc_idx]}\")\n",
        "print(f\"Phuong co ty le tang dan so thap nhat la {com_name[min_pgpc_idx]}, {dist_name[min_pgpc_idx]}\")"
      ],
      "execution_count": 40,
      "outputs": [
        {
          "output_type": "stream",
          "name": "stdout",
          "text": [
            "Phuong co ty le tang dan so cao nhat la Phu Huu, District 9\n",
            "Phuong co ty le tang dan so thap nhat la An Khanh, District 2\n"
          ]
        }
      ]
    },
    {
      "cell_type": "code",
      "metadata": {
        "id": "5kwP1Mh1h9gQ"
      },
      "source": [
        "pop_change = pop_2019 - pop_2009 # Bien dong dan so\n",
        "max_popchange_idx = pop_change.idxmax()\n",
        "min_popchange_idx = pop_change.idxmin()"
      ],
      "execution_count": 33,
      "outputs": []
    },
    {
      "cell_type": "code",
      "metadata": {
        "colab": {
          "base_uri": "https://localhost:8080/"
        },
        "id": "Vr_5kq0ah_D2",
        "outputId": "ad4fe1f4-679e-4e5a-9989-8947b14107d8"
      },
      "source": [
        "print(f\"Phuong co bien dong dan so lon nhat la {com_name[max_popchange_idx]}, {dist_name[max_popchange_idx]}\")\n",
        "print(f\"Phuong co bien dong dan so thap nhat la {com_name[min_popchange_idx]}, {dist_name[min_popchange_idx]}\")"
      ],
      "execution_count": 37,
      "outputs": [
        {
          "output_type": "stream",
          "name": "stdout",
          "text": [
            "Phuong co bien dong dan so lon nhat la Vinh Loc A, Binh Chanh\n",
            "Phuong co bien dong dan so thap nhat la An Khanh, District 2\n"
          ]
        }
      ]
    },
    {
      "cell_type": "code",
      "metadata": {
        "id": "LWcX40tRiEaQ"
      },
      "source": [
        "mdds = pop_2019 / area # Mat do dan so 2019\n",
        "max_mdds_idx = mdds.idxmax()\n",
        "min_mdds_idx = mdds.idxmin()"
      ],
      "execution_count": 38,
      "outputs": []
    },
    {
      "cell_type": "code",
      "metadata": {
        "colab": {
          "base_uri": "https://localhost:8080/"
        },
        "id": "fNdENPBTiFNc",
        "outputId": "5983b5cf-ae56-4c0a-cdc8-07b2f58ea31c"
      },
      "source": [
        "print(f\"Phuong co mat do dan so cao nhat 2019 la {com_name[max_mdds_idx]}, {dist_name[max_mdds_idx]}\")\n",
        "print(f\"Phuong co mat do dan so thap nhat 2019 la {com_name[min_mdds_idx]}, {dist_name[min_mdds_idx]}\")"
      ],
      "execution_count": 39,
      "outputs": [
        {
          "output_type": "stream",
          "name": "stdout",
          "text": [
            "Phuong co mat do dan so cao nhat 2019 la Ward 8, District 4\n",
            "Phuong co mat do dan so thap nhat 2019 la Ly Nhon, Can Gio\n"
          ]
        }
      ]
    }
  ]
}